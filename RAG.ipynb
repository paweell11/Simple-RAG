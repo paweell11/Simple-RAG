{
 "cells": [
  {
   "cell_type": "markdown",
   "id": "3bccf73b-e6ee-4579-8ea9-a1b5c4732d57",
   "metadata": {},
   "source": [
    "# **LOAD DATA**"
   ]
  },
  {
   "cell_type": "markdown",
   "id": "5f727201-0488-48f4-ba93-6085976b80f5",
   "metadata": {},
   "source": [
    "**First, we need to load the dataset. I chose a small dataset from Wikipedia - specifically the \"rahular/simple-wikipedia\" dataset from HuggingFace Hub.**"
   ]
  },
  {
   "cell_type": "code",
   "execution_count": 4,
   "id": "a034356b-5b3c-4f58-8f50-26339b0fa478",
   "metadata": {},
   "outputs": [],
   "source": [
    "from datasets import load_dataset\n",
    "\n",
    "dataset = load_dataset(\"rahular/simple-wikipedia\")"
   ]
  },
  {
   "cell_type": "markdown",
   "id": "78cc85e0-f3f9-4fe3-bd29-05d819cac5d6",
   "metadata": {},
   "source": [
    "**Key Information About Our Dataset**"
   ]
  },
  {
   "cell_type": "code",
   "execution_count": 5,
   "id": "f39b2f2b-8578-4de8-a078-c7005b2ef423",
   "metadata": {},
   "outputs": [
    {
     "name": "stdout",
     "output_type": "stream",
     "text": [
      "Dataset type: <class 'datasets.dataset_dict.DatasetDict'>\n",
      "Available splits: ['train']\n"
     ]
    }
   ],
   "source": [
    "print(f\"Dataset type: {type(dataset)}\")\n",
    "print(f\"Available splits: {list(dataset.keys())}\")"
   ]
  },
  {
   "cell_type": "code",
   "execution_count": 6,
   "id": "44e3fae8-20a1-4cd3-ba14-b8459f1cd54f",
   "metadata": {},
   "outputs": [
    {
     "name": "stdout",
     "output_type": "stream",
     "text": [
      "Dataset length: 769764\n"
     ]
    }
   ],
   "source": [
    "print(f\"Dataset length: {len(dataset[\"train\"])}\")"
   ]
  },
  {
   "cell_type": "code",
   "execution_count": 7,
   "id": "2039b53a-0f4b-44af-ae10-f800c9abdaf3",
   "metadata": {},
   "outputs": [
    {
     "name": "stdout",
     "output_type": "stream",
     "text": [
      "Dataset features: {'text': Value('string')}\n"
     ]
    }
   ],
   "source": [
    "print(f\"Dataset features: {dataset['train'].features}\")"
   ]
  },
  {
   "cell_type": "code",
   "execution_count": 8,
   "id": "46000122-29da-4301-b7ce-22b83b66e894",
   "metadata": {},
   "outputs": [
    {
     "name": "stdout",
     "output_type": "stream",
     "text": [
      "Sample record (index 558): {'text': 'Plants are also multicellular eukaryotic organisms, but live by using light, water and basic elements to make their tissues.'}\n"
     ]
    }
   ],
   "source": [
    "print(f\"Sample record (index 558): {dataset['train'][558]}\")"
   ]
  },
  {
   "cell_type": "code",
   "execution_count": 9,
   "id": "169c9d9b-9289-492a-8a51-c65df3f7efc1",
   "metadata": {},
   "outputs": [
    {
     "name": "stdout",
     "output_type": "stream",
     "text": [
      "Empty records: 0\n"
     ]
    }
   ],
   "source": [
    "empty = [i for i in range(len(dataset[\"train\"])) if not dataset[\"train\"][i][\"text\"].strip()]\n",
    "print(f\"Empty records: {len(empty)}\")"
   ]
  },
  {
   "cell_type": "code",
   "execution_count": 10,
   "id": "dd5799db-2d66-4e84-a116-cee9441245a9",
   "metadata": {},
   "outputs": [
    {
     "name": "stdout",
     "output_type": "stream",
     "text": [
      "Sample data as DataFrame:\n"
     ]
    },
    {
     "data": {
      "text/html": [
       "<div>\n",
       "<style scoped>\n",
       "    .dataframe tbody tr th:only-of-type {\n",
       "        vertical-align: middle;\n",
       "    }\n",
       "\n",
       "    .dataframe tbody tr th {\n",
       "        vertical-align: top;\n",
       "    }\n",
       "\n",
       "    .dataframe thead th {\n",
       "        text-align: right;\n",
       "    }\n",
       "</style>\n",
       "<table border=\"1\" class=\"dataframe\">\n",
       "  <thead>\n",
       "    <tr style=\"text-align: right;\">\n",
       "      <th></th>\n",
       "      <th>text</th>\n",
       "    </tr>\n",
       "  </thead>\n",
       "  <tbody>\n",
       "    <tr>\n",
       "      <th>0</th>\n",
       "      <td>April</td>\n",
       "    </tr>\n",
       "    <tr>\n",
       "      <th>1</th>\n",
       "      <td>April is the fourth month of the year, and com...</td>\n",
       "    </tr>\n",
       "    <tr>\n",
       "      <th>2</th>\n",
       "      <td>April always begins on the same day of week as...</td>\n",
       "    </tr>\n",
       "    <tr>\n",
       "      <th>3</th>\n",
       "      <td>April's flowers are the Sweet Pea and Daisy. I...</td>\n",
       "    </tr>\n",
       "    <tr>\n",
       "      <th>4</th>\n",
       "      <td>April comes between March and May, making it t...</td>\n",
       "    </tr>\n",
       "  </tbody>\n",
       "</table>\n",
       "</div>"
      ],
      "text/plain": [
       "                                                text\n",
       "0                                              April\n",
       "1  April is the fourth month of the year, and com...\n",
       "2  April always begins on the same day of week as...\n",
       "3  April's flowers are the Sweet Pea and Daisy. I...\n",
       "4  April comes between March and May, making it t..."
      ]
     },
     "execution_count": 10,
     "metadata": {},
     "output_type": "execute_result"
    }
   ],
   "source": [
    "import pandas as pd\n",
    "df = pd.DataFrame(dataset[\"train\"][:5])\n",
    "print(\"Sample data as DataFrame:\")\n",
    "df"
   ]
  },
  {
   "cell_type": "code",
   "execution_count": null,
   "id": "8ebae6b4-a846-404a-bac7-a70d1e0fe764",
   "metadata": {},
   "outputs": [],
   "source": []
  },
  {
   "cell_type": "code",
   "execution_count": null,
   "id": "245339ae-c122-4b25-85cf-bfd19322071f",
   "metadata": {},
   "outputs": [],
   "source": []
  },
  {
   "cell_type": "code",
   "execution_count": null,
   "id": "970cbc64-16b9-4fe4-879a-2c1699216353",
   "metadata": {},
   "outputs": [],
   "source": []
  },
  {
   "cell_type": "code",
   "execution_count": null,
   "id": "9ce4b1cb-d15e-4019-9038-5b8ba2fefe49",
   "metadata": {},
   "outputs": [],
   "source": []
  },
  {
   "cell_type": "markdown",
   "id": "0f78c5a0-4764-42bf-82ed-3862c50c8a79",
   "metadata": {},
   "source": [
    "# **Document Creation**"
   ]
  },
  {
   "cell_type": "code",
   "execution_count": 11,
   "id": "e6718f04-76e9-4a82-a2c4-9f560290f09a",
   "metadata": {},
   "outputs": [
    {
     "name": "stdout",
     "output_type": "stream",
     "text": [
      "✅ Created 769764 LangChain documents\n"
     ]
    }
   ],
   "source": [
    "from langchain.schema import Document as LangChainDocument\n",
    "    \n",
    "\n",
    "langchain_documents = []\n",
    "for i, record in enumerate(dataset[\"train\"]):\n",
    "    text_content = record[\"text\"]\n",
    "        \n",
    "    if not text_content.strip():\n",
    "        continue\n",
    "        \n",
    "    metadata = {\n",
    "        \"source\": \"simple_wikipedia\",\n",
    "        \"original_index\": i,\n",
    "        \"text_length\": len(text_content),\n",
    "    }\n",
    "        \n",
    "    doc = LangChainDocument(\n",
    "        page_content=text_content,\n",
    "        metadata=metadata\n",
    "    )\n",
    "        \n",
    "    langchain_documents.append(doc)\n",
    "    \n",
    "print(f\"✅ Created {len(langchain_documents)} LangChain documents\")"
   ]
  },
  {
   "cell_type": "code",
   "execution_count": null,
   "id": "60999eb2-7f55-44f6-b088-563d008a1769",
   "metadata": {},
   "outputs": [],
   "source": []
  },
  {
   "cell_type": "code",
   "execution_count": 14,
   "id": "b1413594-99d7-41d6-a391-08a469793b15",
   "metadata": {},
   "outputs": [
    {
     "name": "stdout",
     "output_type": "stream",
     "text": [
      "Total non-empty documents: 769764\n",
      "\n",
      "DOCUMENT LENGTH STATISTICS (in characters):\n",
      "--------------------------------------------------\n",
      "Minimum length: 1 characters\n",
      "Maximum length: 10,570 characters\n",
      "Average length: 183 characters\n",
      "Median length: 127 characters\n",
      "Standard deviation: 198 characters\n",
      "\n",
      "Percentiles:\n",
      "  10th percentile: 12 characters\n",
      "  25th percentile: 24 characters\n",
      "  50th percentile: 127 characters\n",
      "  75th percentile: 271 characters\n",
      "  90th percentile: 432 characters\n",
      "  95th percentile: 558 characters\n",
      "  99th percentile: 872 characters\n"
     ]
    }
   ],
   "source": [
    "# Get all text lengths from the dataset\n",
    "text_lengths = []\n",
    "for i, record in enumerate(dataset[\"train\"]):\n",
    "    text = record[\"text\"]\n",
    "    if text.strip():  # Skip empty records\n",
    "        text_lengths.append(len(text))\n",
    "\n",
    "print(f\"Total non-empty documents: {len(text_lengths)}\")\n",
    "\n",
    "# =====================================================================\n",
    "# LENGTH STATISTICS\n",
    "# =====================================================================\n",
    "\n",
    "import numpy as np\n",
    "\n",
    "print(\"\\nDOCUMENT LENGTH STATISTICS (in characters):\")\n",
    "print(\"-\" * 50)\n",
    "print(f\"Minimum length: {min(text_lengths):,} characters\")\n",
    "print(f\"Maximum length: {max(text_lengths):,} characters\")\n",
    "print(f\"Average length: {np.mean(text_lengths):,.0f} characters\")\n",
    "print(f\"Median length: {np.median(text_lengths):,.0f} characters\")\n",
    "print(f\"Standard deviation: {np.std(text_lengths):,.0f} characters\")\n",
    "\n",
    "# Percentiles\n",
    "percentiles = [10, 25, 50, 75, 90, 95, 99]\n",
    "print(f\"\\nPercentiles:\")\n",
    "for p in percentiles:\n",
    "    value = np.percentile(text_lengths, p)\n",
    "    print(f\"  {p}th percentile: {value:,.0f} characters\")"
   ]
  },
  {
   "cell_type": "code",
   "execution_count": null,
   "id": "7c85c2bb-18e9-4f07-b466-da9bacbd8c86",
   "metadata": {},
   "outputs": [],
   "source": []
  }
 ],
 "metadata": {
  "kernelspec": {
   "display_name": "Python (venv)",
   "language": "python",
   "name": "venv"
  },
  "language_info": {
   "codemirror_mode": {
    "name": "ipython",
    "version": 3
   },
   "file_extension": ".py",
   "mimetype": "text/x-python",
   "name": "python",
   "nbconvert_exporter": "python",
   "pygments_lexer": "ipython3",
   "version": "3.13.5"
  }
 },
 "nbformat": 4,
 "nbformat_minor": 5
}
